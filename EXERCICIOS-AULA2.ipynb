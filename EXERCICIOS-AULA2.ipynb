{
 "cells": [
  {
   "cell_type": "markdown",
   "metadata": {},
   "source": [
    "# Desafio Aula 2\n",
    "\n",
    "## Exercícios - Funções\n",
    "\n",
    "### 1. Crie uma função chamada `calcular_media` que recebe uma lista de números como argumento e retorna a média desses números."
   ]
  },
  {
   "cell_type": "code",
   "execution_count": 2,
   "metadata": {},
   "outputs": [
    {
     "name": "stdout",
     "output_type": "stream",
     "text": [
      "3.0\n"
     ]
    }
   ],
   "source": [
    "def calcular_media(numeros):\n",
    "    return sum(numeros) / len(numeros)\n",
    "\n",
    "# Testando a função\n",
    "print(calcular_media([1, 2, 3, 4, 5]))"
   ]
  },
  {
   "cell_type": "markdown",
   "metadata": {},
   "source": [
    "### 2. Crie uma função chamada `verificar_paridade` que recebe um número como argumento e retorna se o número é par ou ímpar."
   ]
  },
  {
   "cell_type": "code",
   "execution_count": 3,
   "metadata": {},
   "outputs": [
    {
     "name": "stdout",
     "output_type": "stream",
     "text": [
      "par\n",
      "ímpar\n"
     ]
    }
   ],
   "source": [
    "def verificar_paridade(numero):\n",
    "    return \"par\" if numero % 2 == 0 else \"ímpar\"\n",
    "\n",
    "# Testando a função\n",
    "print(verificar_paridade(10))  # Saída: par\n",
    "print(verificar_paridade(7))   # Saída: ímpar"
   ]
  },
  {
   "cell_type": "markdown",
   "metadata": {},
   "source": [
    "### 3. Crie uma função lambda que recebe dois números como argumentos e retorna o primeiro número elevado à potência do segundo número."
   ]
  },
  {
   "cell_type": "code",
   "execution_count": 4,
   "metadata": {},
   "outputs": [
    {
     "name": "stdout",
     "output_type": "stream",
     "text": [
      "8\n",
      "25\n"
     ]
    }
   ],
   "source": [
    "potencia = lambda x, y: x ** y\n",
    "\n",
    "# Testando a função lambda\n",
    "print(potencia(2, 3))  # Saída: 8\n",
    "print(potencia(5, 2))  # Saída: 25"
   ]
  },
  {
   "cell_type": "markdown",
   "metadata": {},
   "source": [
    "## Exercícios - Pacotes\n",
    "\n",
    "### 4. Crie um módulo Python com uma função que imprime uma mensagem. Importe e execute essa função em outro script Python."
   ]
  },
  {
   "cell_type": "code",
   "execution_count": 7,
   "metadata": {},
   "outputs": [
    {
     "name": "stdout",
     "output_type": "stream",
     "text": [
      "Esta é uma mensagem do módulo.\n"
     ]
    }
   ],
   "source": [
    "# main.py\n",
    "from modulo_mensagem import imprimir_mensagem\n",
    "\n",
    "imprimir_mensagem()"
   ]
  },
  {
   "cell_type": "markdown",
   "metadata": {},
   "source": [
    "### 5. Crie um pacote Python com dois módulos diferentes. Importe e utilize funções de ambos os módulos em outro script Python."
   ]
  },
  {
   "cell_type": "code",
   "execution_count": 1,
   "metadata": {},
   "outputs": [
    {
     "name": "stdout",
     "output_type": "stream",
     "text": [
      "Função do módulo 1\n",
      "Função do módulo 2\n"
     ]
    }
   ],
   "source": [
    "# main.py\n",
    "from modulo1 import funcao_modulo1\n",
    "from modulo2 import funcao_modulo2\n",
    "\n",
    "print(funcao_modulo1())\n",
    "print(funcao_modulo2())"
   ]
  },
  {
   "cell_type": "markdown",
   "metadata": {},
   "source": [
    "### 6. Utilize o pacote `requests` para fazer uma requisição HTTP em um script Python. Retorne o `status_code`."
   ]
  },
  {
   "cell_type": "code",
   "execution_count": 2,
   "metadata": {},
   "outputs": [
    {
     "ename": "ModuleNotFoundError",
     "evalue": "No module named 'requests'",
     "output_type": "error",
     "traceback": [
      "\u001b[0;31m---------------------------------------------------------------------------\u001b[0m",
      "\u001b[0;31mModuleNotFoundError\u001b[0m                       Traceback (most recent call last)",
      "Cell \u001b[0;32mIn[2], line 1\u001b[0m\n\u001b[0;32m----> 1\u001b[0m \u001b[38;5;28;01mimport\u001b[39;00m \u001b[38;5;21;01mrequests\u001b[39;00m\n\u001b[1;32m      3\u001b[0m response \u001b[38;5;241m=\u001b[39m requests\u001b[38;5;241m.\u001b[39mget(\u001b[38;5;124m'\u001b[39m\u001b[38;5;124mhttps://www.fiap.com.br\u001b[39m\u001b[38;5;124m'\u001b[39m)\n\u001b[1;32m      4\u001b[0m \u001b[38;5;28mprint\u001b[39m(response\u001b[38;5;241m.\u001b[39mstatus_code) \n",
      "\u001b[0;31mModuleNotFoundError\u001b[0m: No module named 'requests'"
     ]
    }
   ],
   "source": [
    "import requests\n",
    "\n",
    "response = requests.get('https://www.fiap.com.br')\n",
    "print(response.status_code) "
   ]
  },
  {
   "cell_type": "markdown",
   "metadata": {},
   "source": [
    "## Exercícios - Arquivos e I/O\n",
    "\n",
    "### 7. Leia o conteúdo de um arquivo de texto e imprima-o na tela."
   ]
  },
  {
   "cell_type": "code",
   "execution_count": 11,
   "metadata": {},
   "outputs": [
    {
     "name": "stdout",
     "output_type": "stream",
     "text": [
      "Este é um arquivo de exemplo.\n",
      "Contendo várias linhas.\n",
      "Para leitura.\n"
     ]
    }
   ],
   "source": [
    "# Criando um arquivo de exemplo\n",
    "with open('arquivo_exemplo.txt', 'w') as f:\n",
    "    f.write(\"Este é um arquivo de exemplo.\\nContendo várias linhas.\\nPara leitura.\")\n",
    "\n",
    "# Lendo o arquivo e imprimindo seu conteúdo\n",
    "with open('arquivo_exemplo.txt', 'r') as f:\n",
    "    conteudo = f.read()\n",
    "    print(conteudo)"
   ]
  },
  {
   "cell_type": "markdown",
   "metadata": {},
   "source": [
    "### 8. Solicite ao usuário que digite algumas linhas de texto e grave essas linhas em um arquivo de texto."
   ]
  },
  {
   "cell_type": "code",
   "execution_count": 13,
   "metadata": {},
   "outputs": [
    {
     "name": "stdout",
     "output_type": "stream",
     "text": [
      "Digite algumas linhas de texto (digite 'sair' para terminar):\n"
     ]
    }
   ],
   "source": [
    "linhas = []\n",
    "print(\"Digite algumas linhas de texto (digite 'sair' para terminar):\")\n",
    "while True:\n",
    "    linha = input()\n",
    "    if linha.lower() == 'sair':\n",
    "        break\n",
    "    linhas.append(linha)\n",
    "\n",
    "with open('saida_usuario.txt', 'w') as f:\n",
    "    f.write('\\n'.join(linhas))"
   ]
  },
  {
   "cell_type": "markdown",
   "metadata": {},
   "source": [
    "## Exercícios - Tempo\n",
    "\n",
    "### 9. Obtenha a data atual e imprima-a na tela."
   ]
  },
  {
   "cell_type": "code",
   "execution_count": 16,
   "metadata": {},
   "outputs": [
    {
     "name": "stdout",
     "output_type": "stream",
     "text": [
      "2024-06-22 20:45:53.428708\n"
     ]
    }
   ],
   "source": [
    "from datetime import datetime\n",
    "\n",
    "data_atual = datetime.now()\n",
    "print(data_atual)"
   ]
  },
  {
   "cell_type": "markdown",
   "metadata": {},
   "source": [
    "### 10. Obtenha a data atual e imprima-a na tela no formato dia/mês/ano."
   ]
  },
  {
   "cell_type": "code",
   "execution_count": 17,
   "metadata": {},
   "outputs": [
    {
     "name": "stdout",
     "output_type": "stream",
     "text": [
      "22/06/2024\n"
     ]
    }
   ],
   "source": [
    "data_formatada = data_atual.strftime('%d/%m/%Y')\n",
    "print(data_formatada)"
   ]
  },
  {
   "cell_type": "markdown",
   "metadata": {},
   "source": [
    "### 11. Agende uma tarefa para ser executada daqui a 10 minutos e imprima uma mensagem quando ela for executada."
   ]
  },
  {
   "cell_type": "code",
   "execution_count": 24,
   "metadata": {},
   "outputs": [
    {
     "name": "stdout",
     "output_type": "stream",
     "text": [
      "Tarefa agendada para daqui a 10.0 minutos.\n"
     ]
    }
   ],
   "source": [
    "import time\n",
    "from datetime import timedelta\n",
    "\n",
    "def tarefa_agendada():\n",
    "    print(\"Tarefa executada!\")\n",
    "\n",
    "tempo_espera = 10 * 60  # 10 minutos em segundos\n",
    "print(f\"Tarefa agendada para daqui a {tempo_espera / 60} minutos.\")\n",
    "time.sleep(tempo_espera)\n",
    "tarefa_agendada()"
   ]
  },
  {
   "cell_type": "markdown",
   "metadata": {},
   "source": [
    "## Exercícios - Regex\n",
    "\n",
    "### 12. Valide se um endereço de e-mail está em um formato válido usando expressões regulares."
   ]
  },
  {
   "cell_type": "code",
   "execution_count": 20,
   "metadata": {},
   "outputs": [
    {
     "name": "stdout",
     "output_type": "stream",
     "text": [
      "True\n",
      "False\n"
     ]
    }
   ],
   "source": [
    "import re\n",
    "\n",
    "def validar_email(email):\n",
    "    padrao = r'^[a-zA-Z0-9_.+-]+@[a-zA-Z0-9-]+\\.[a-zA-Z0-9-.]+$'\n",
    "    return re.match(padrao, email) is not None\n",
    "\n",
    "# Testando a função\n",
    "print(validar_email(\"teste@exemplo.com\"))  \n",
    "print(validar_email(\"teste@exemplo\"))      "
   ]
  },
  {
   "cell_type": "markdown",
   "metadata": {},
   "source": [
    "### 13. Extraia todos os números de uma string usando expressões regulares."
   ]
  },
  {
   "cell_type": "code",
   "execution_count": 22,
   "metadata": {},
   "outputs": [
    {
     "name": "stdout",
     "output_type": "stream",
     "text": [
      "['123', '456', '789']\n"
     ]
    }
   ],
   "source": [
    "def extrair_numeros(string):\n",
    "    padrao = r'\\d+'\n",
    "    return re.findall(padrao, string)\n",
    "\n",
    "# Testando a função\n",
    "print(extrair_numeros(\"123 abc 456 def 789\")) "
   ]
  },
  {
   "cell_type": "markdown",
   "metadata": {},
   "source": [
    "### 14. Verifique se uma string está no formato de data dd/mm/aaaa usando expressões regulares."
   ]
  },
  {
   "cell_type": "code",
   "execution_count": 23,
   "metadata": {},
   "outputs": [
    {
     "name": "stdout",
     "output_type": "stream",
     "text": [
      "True\n",
      "False\n"
     ]
    }
   ],
   "source": [
    "def validar_data(data):\n",
    "    padrao = r'^\\d{2}/\\d{2}/\\d{4}$'\n",
    "    return re.match(padrao, data) is not None\n",
    "\n",
    "# Testando a função\n",
    "print(validar_data(\"22/06/2024\"))  # Saída: True\n",
    "print(validar_data(\"22-06-2024\"))  # Saída: False"
   ]
  }
 ],
 "metadata": {
  "kernelspec": {
   "display_name": "Python 3",
   "language": "python",
   "name": "python3"
  },
  "language_info": {
   "codemirror_mode": {
    "name": "ipython",
    "version": 3
   },
   "file_extension": ".py",
   "mimetype": "text/x-python",
   "name": "python",
   "nbconvert_exporter": "python",
   "pygments_lexer": "ipython3",
   "version": "3.12.4"
  }
 },
 "nbformat": 4,
 "nbformat_minor": 2
}
